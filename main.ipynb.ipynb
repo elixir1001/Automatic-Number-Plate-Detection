{
 "cells": [
  {
   "cell_type": "markdown",
   "metadata": {},
   "source": [
    "# 1. Install and Import Dependencies"
   ]
  },
  {
   "cell_type": "code",
   "execution_count": null,
   "metadata": {},
   "outputs": [],
   "source": [
    "!pip install torch==1.8.1+cu111 torchvision==0.9.1+cu111 torchaudio===0.8.1 -f https://download.pytorch.org/whl/torch_stable.html"
   ]
  },
  {
   "cell_type": "code",
   "execution_count": null,
   "metadata": {},
   "outputs": [],
   "source": [
    "!pip install transformers requests beautifulsoup4 pandas numpy"
   ]
  },
  {
   "cell_type": "code",
   "execution_count": 2,
   "metadata": {},
   "outputs": [],
   "source": [
    "from transformers import AutoTokenizer, AutoModelForSequenceClassification\n",
    "import torch\n",
    "import requests\n",
    "from bs4 import BeautifulSoup\n",
    "import re"
   ]
  },
  {
   "cell_type": "markdown",
   "metadata": {},
   "source": [
    "# 2. Instantiate Model"
   ]
  },
  {
   "cell_type": "code",
   "execution_count": 18,
   "metadata": {},
   "outputs": [],
   "source": [
    "tokenizer = AutoTokenizer.from_pretrained('nlptown/bert-base-multilingual-uncased-sentiment')\n",
    "\n",
    "model = AutoModelForSequenceClassification.from_pretrained('nlptown/bert-base-multilingual-uncased-sentiment')"
   ]
  },
  {
   "cell_type": "markdown",
   "metadata": {},
   "source": [
    "# 3. Encode and Calculate Sentiment"
   ]
  },
  {
   "cell_type": "code",
   "execution_count": 19,
   "metadata": {},
   "outputs": [],
   "source": [
    "tokens = tokenizer.encode('It was good but couldve been better. Great', return_tensors='pt')"
   ]
  },
  {
   "cell_type": "code",
   "execution_count": 20,
   "metadata": {},
   "outputs": [],
   "source": [
    "result = model(tokens)"
   ]
  },
  {
   "cell_type": "code",
   "execution_count": 21,
   "metadata": {},
   "outputs": [
    {
     "data": {
      "text/plain": [
       "tensor([[-2.7768, -1.2353,  1.4419,  1.9804,  0.4584]],\n",
       "       grad_fn=<AddmmBackward0>)"
      ]
     },
     "execution_count": 21,
     "metadata": {},
     "output_type": "execute_result"
    }
   ],
   "source": [
    "result.logits"
   ]
  },
  {
   "cell_type": "code",
   "execution_count": 22,
   "metadata": {},
   "outputs": [
    {
     "data": {
      "text/plain": [
       "4"
      ]
     },
     "execution_count": 22,
     "metadata": {},
     "output_type": "execute_result"
    }
   ],
   "source": [
    "int(torch.argmax(result.logits))+1"
   ]
  },
  {
   "cell_type": "markdown",
   "metadata": {},
   "source": [
    "# 4. Collect Reviews"
   ]
  },
  {
   "cell_type": "code",
   "execution_count": 28,
   "metadata": {},
   "outputs": [],
   "source": [
    "r = requests.get('https://myanimelist.net/anime/5114/Fullmetal_Alchemist__Brotherhood')\n",
    "soup = BeautifulSoup(r.text, 'html.parser')\n",
    "regex = re.compile('.*text.*')"
   ]
  },
  {
   "cell_type": "code",
   "execution_count": 29,
   "metadata": {},
   "outputs": [
    {
     "data": {
      "text/plain": [
       "\"\\n                First of all, I have seen the original FMA and although it was very popular and original, the pacing and conclusion did not sit too well with me. Brotherhood is meant to be a remake of the original, this time sticking to the manga all the way through, but there were people who thought it would spoil the franchise. That myth should be dispelled, as there's only one word to describe this series - EPIC.\\n\\r\\nI admit that as I've seen the original and read the manga, the pacing of Brotherhood seems to start off being VERY fast (I finally got used to the pacing after\\n                  ...\\nwatching the first fifteen eps or so). Events that took up half a volume of the manga and had spread though a few episodes of the original anime were now shown in just a single episode. However, after trying to look at it from the perspective of someone who's new to FMA (not comparing it to the manga nor the original), I believe that the pacing works and it manages to tell an intriguing story effectively with little confusion. The plot is full of clever ideas and unpredictable twists that link various parts of the story together. By the final episode, all loose ends are neatly tied up and what's left is a hugely satisfying epilogue.\\n\\r\\nThe animation in FMA Brotherhood is crisp and very well done (although it does sometimes dip a bit in quality). Compared to the original FMA it's a bit simpler but that's just because the original set a very high standard to follow. The facial emotions of the characters are also perfectly presented. The action scenes are brilliant and VERY well animated, with a variety of alchemy techniques and other talents being displayed nearly every episode. The various battles are consistently exciting to watch, but somehow get even better towards the end of the series.\\n\\r\\nThe voice acting is of an excellent and consistent quality, and I think that pretty much all the characters have voice actors which suit their personalities. The majority of the openings/endings are a pleasure to watch due to fantastic animated sequences and theme songs. The background music which play during the episodes usually fit very well with the situation, although some tracks seem to be overused a little at first. This becomes less of a problem as the series progresses, with plenty of new music being introduced to support the story as it reaches the finale.\\n\\r\\nMoving on to the characters (best thing about this series), the original FMA focussed mainly on Ed and Al and on their struggles to regain their bodies, whereas Brotherhood also explores other characters to great detail at the same time. The majority of the spotlight is still on the two brothers, but it highlights their interactions with new characters which were not present in the original anime. New characters include a group of people from Xing (a neighbouring country), another person from the Armstrong family (who I think has become one of the coolest members of the supporting cast), and a new main antagonist. For me, the Xingese characters in particular (Ling Yao and Mei Chang among others) provide a new dimension to the FMA world, by showing us a different culture to the militaristic one we're familiar with. I think the new antagonist is an improvement on the original FMA, as this person has a much stronger and clever link to the Elric brothers' father. Returning characters from the original FMA, such as Mustang and Scar, are much more awesome and developed due to the fact that Brotherhood is 100% faithful to the manga. Plus, Winry Rockbell now has a much more active role in the story. I can say for sure that this anime has one of the best main/supporting casts I've ever seen, and you'd probably find it difficult to label any of the recurring characters (whether they are good or evil) as being either boring or unnecessary in terms of the storyline.\\n\\r\\nOne of the many good things about this series is that there has been absolutely no filler at all (yes, I'm thinking of Naruto, Inuyasha, etc), which prevents the story from losing momentum. All the episodes are concise and every scene is important as part of the huge plot. The dialogue fully explains everything and is straight to the point. As multiple characters are explored there are lots of side stories, but these are all perfectly intertwined with the main story of the Elric brothers and more often than not directly influence their journey too. Like most anime series, there are things from the manga which have been left out, but these are usually just restricted to comedy moments. There has been one episode which shows a lot of flashbacks of events so far, but that's forgiven as it shows the most epic moments of the series, and also provided us with some history on the father of the Elric brothers. \\n\\r\\nFMA Brotherhood will be sorely missed now that it's finished. It is excellent in every aspect and has very little, if anything, that can be called a flaw (maybe rushed character development at first due to the fast pacing, but this quickly subsides). Each episode feels like it's too short, a testimony to how much it draws you in to the story and characters. There are moments which leave you smiling, laughing, sad and simply amazed. Try this anime, it's recommended for absolutely everyone, to newcomers and to those familiar with Fullmetal Alchemist.\\n\""
      ]
     },
     "execution_count": 29,
     "metadata": {},
     "output_type": "execute_result"
    }
   ],
   "source": [
    "results = soup.find_all('div', {'class':regex})\n",
    "reviews = [result.text for result in results]\n",
    "reviews[4]"
   ]
  },
  {
   "cell_type": "markdown",
   "metadata": {},
   "source": [
    "# 5. Load Reviews into DataFrame and Score"
   ]
  },
  {
   "cell_type": "code",
   "execution_count": 12,
   "metadata": {},
   "outputs": [],
   "source": [
    "import numpy as np\n",
    "import pandas as pd"
   ]
  },
  {
   "cell_type": "code",
   "execution_count": 30,
   "metadata": {},
   "outputs": [],
   "source": [
    "df = pd.DataFrame(np.array(reviews), columns=['review'])"
   ]
  },
  {
   "cell_type": "code",
   "execution_count": 31,
   "metadata": {},
   "outputs": [
    {
     "data": {
      "text/plain": [
       "'\\n                Fullmetal Alchemist: Brotherhood gets an immense amount of praise in the MAL community.  Now this is just the opinion of one guy. I\\'m certainly not the law of the land or anything. However, I personally feel as though calling FMA:B a masterpiece and the champion of all shows is a bit of a stretch. That\\'s not to say that I didn\\'t enjoy it or that it isn\\'t a very solid addition to the ranks of notable shows; I really would like to preface this review by saying that I believe that FMA:B is a very good show and I wouldn\\'t be nearly as harsh\\n                  ...\\non it if it weren\\'t for the God status the show has attained in America. I would happily remand \"greatest show ever made\" to \"greatest long-running shonen ever made if you haven\\'t seen the 2011 Hunter X Hunter\"\\n\\r\\nI\\'m not a huge fan of the MAL categorical rating system, as I\\'ve mentioned in some of my previous reviews. I oftentimes outright ignore it. However, looking at the categories right now, I feel as though this is one instance where I can use it to talk about everything I want to so I\\'m going to use it.\\n\\r\\nSTORY: 8\\n\\r\\nThe FMA:B plot and world-building are some of its strongest aspects. The world that it creates is an immersive, full-feeling thing with many animate pieces that move even when you aren\\'t looking at them. It\\'s an extremely creative world as well, adopting its own set of universal laws including alchemy through equivalent exchange, mind-body duality and its own interpretation of a higher power, and it sticks by these laws. Never once does the story contradict its own rules, instead using them in creative ways to build off of each other. The plot is also one of the most engaging parts of the show, unveiling itself at just the right pace to keep you interested whilst still keeping a few major cards to play at the very end. The pieces fall into place in a way that is satisfying because it simultaneously mind-blowing and obvious, and that\\'s one of the marks of strong storytelling.\\n\\r\\nWhile the FMA:B story is certainly one of the best I\\'ve seen, I find that I have to withhold my 10 score here on the grounds that its incredible direction and creativity are marred by some detrimental weaknesses. First of all, the exposition is handled extremely poorly. The first and third episodes feel like they\\'re from some shitty cartoon network show, the show blatantly ignores the show-don\\'t-tell rule in the entirety of its first chunk (with characters spelling out exactly what is happening and why it\\'s happening) and its tendency to repeat important plot points over and over again quite frankly feels insulting to me as the audience as though the show is assuming I\\'m not able to pay attention or figure things out for myself and need to have the fact that Ed and Al committed the sin of human transmutation and lost their bodies told to me at least twenty-five times in the first two hours of show. Secondly, there\\'s a period of time which I would probably refer to as the third fourth of the show (episodes 40-53ish) in which the show drags incredibly, adopting a typical battle-shonen approach of having characters engage in multiple-episode long one-on-one or two-on-one battles, giving them plenty of time to pose and stand off and monologue at each other. This isn\\'t how fighting or war works, and these contrived battles really take away a lot of the climactic atmosphere. Finally, the show\\'s ending is not nearly as satisfying as I wish it had been. The final few episodes are for the most part brilliant, but once the show plays all its cards and it\\'s resolution time, it wraps itself up with cliches and in-your-face themes. \\n\\r\\nART: 8\\n\\r\\nThe art is absolutely astounding 80% of the time and absolutely horrid 20% of the time. Thus the 8 score. The action is all stunning, the openings gorgeous, the backgrounds consistent and unique, building a sense of a real lived-in world. The character designs are sometimes a little bland, but for the most part they are memorable and the homunculi look brilliant so I don\\'t have any real complaints there.\\n\\r\\nWhat I have a problem with is the obnoxious number of times that the show goes \"anime\" - reducing its characters to shittily-drawn caricatures and its animation to blocky, looped motion. Usually this is used during the shows attempts at humor, which I\\'ll talk about later, but most of the time it was just extremely cringe-inducing and distracting, ruining the sense of continuity and immersion in this world. The show obviously wants you to take it seriously (it sure loves its drama) and when Al is portrayed as a big grey mound with a squiggle for a mouth it makes this difficult. There\\'s a difference between having your character goof around and having the show itself goof around. It almost feels like a laugh-track, telling the audience \"this is the funny part!\"\\n\\r\\nFor the most part, however, the art is gorgeous. When it counts, it shines, and that\\'s really what matters. \\n\\r\\nSOUND: 10\\n\\r\\nUndeniably the strongest aspect of the show. I have no complaints whatsoever. The soundtrack is never distracting but always effective, the voice-actors (especially for Bradley and Al) absolutely nailed it and the openings and endings... dear lord. It\\'s been said before, but the openings and endings to FMA:B are some of the very best ever made, both in sound and visuals. They tell small stories of their own. They set the tone for the episode and for their section of the show as a whole. I especially loved \\'Golden Time Lover\\' and \\'Chemistry\\', but I have to give special mention to SID\\'s \\'Rain\\'. As far as I\\'m concerned, that opening could have been the end of the show. It single-handedly established a sense of finality, a long-endured struggle of these characters and their causes. Everyone is portrayed as exhausted, weak and full of both despair and determination: protagonist and antagonist alike, fighting under the rain. Not for glory, not for honor, but just for the one thing they care most for. Personally, it made me extremely hyped for the final stretch of the show. It wasn\\'t quite what we got, but at least we got some of it.\\n\\r\\nI believe that there is an intense connection between a show\\'s opening and the audience\\'s willingness to appreciate it. It is very likely that the intensity of many fanbases is in part due to the ability that openings such as these have to maintain feelings in regards to the show, oftentimes perhaps even distorting or altering memories of the show itself into what the opening would have you believe the show was like rather than what it was actually like. Obvious examples that jump to mind are Sword Art Online\\'s \"Courage\" and Guilty Crown\\'s \"My Dearest\". Remember how those shows were absolutely nothing like that? No?? IT\\'S TOO LATE FOR YOU\\n\\r\\nBut I digress.\\n\\r\\nCHARACTER: 6\\n\\r\\nI would definitely call out the show\\'s characters on being the weakest link and the most undeserving of the praise that the show receives. For starters, the writing is often clunky and awkward, but that\\'s not the main issue. It\\'s because most of them are not really characters: they\\'re plot devices with one or two distinguishing traits tacked on. They\\'re entirely predictable, not because they feel like real people but because they do the same things over and over again. Al talks about what he\\'ll do when he gets his body back. Ed talks about how they\\'ll find a way and how they will atone for their mistakes and etc. It\\'s not that it\\'s melodrama: it\\'s the fact that it\\'s the SAME melodrama over and over again. It wasn\\'t until sometime past episode 30 that Ed stopped sounding perpetually like a broken record and started to feel as though he were actually developing, but even then he was really just defined by his arc and not by any amount of complexity.\\n\\r\\nAnd that\\'s the pitfall that so many of these characters fall into. If your character\\'s only real traits beyond their development for the sake of the show are \"hates being called short\" and \"hates milk\" they\\'re really more of a tool with some googly eyes stuck on to them. Other characters are even worse: Armstrong is manly. His sister is more manly. Mustang wants to be Fuhrer and avenge Hughes (he\\'s even got this great relationship with Hawkeye that could have been seriously compelling if they ever had any real conversations about anything besides \"we must overthrow the government\" and \"Hughes!\" over and over again). Winry likes Ed and automail. Ling wants to be emperor. Now, FMA:B is a complex, busy show. I could understand if it didn\\'t have the time to make these characters anything more than chess pieces for its grand and elaborate plot, giving them a few distinguishing traits because that\\'s really all it can manage without dragging itself out immensely. But it DOES have the time: it has all the time it spends having Ed yell about being called short. It has all the time it spends having Armstrong pull of his shirt and yell about being manly. It has all the time it spends having Ed and Al talk about getting their goddamn bodies back over and fucking over again as though I would somehow manage to forget it. Ling passing out from lack of food. May fawning comically over Ed. Mustang is antisocial LOL. The same gags, over and over again, barely even rehashed in any original way. Not only do they become painful to watch, they devour all of the development that this shallow cast of characters could have had to make me actually invested in them. They\\'re far too static, with most of them having a single change or revelation over the course of the show\\'s 64 episodes in order to indicate that they have grown as a person. But a good character has so much more than that: what kind of music do these people listen to? Why? Who are their role models? Why? What books do they like? What are their favorite places to eat? What do they appreciate in the people they\\'re close to?? What are their personal histories...\\n\\r\\nOh wait, sorry! I didn\\'t mean to ask that last one! Please, I take it back! NOOOOOOO...\\n\\r\\nYeah so I forgot to mention something. Screw all that stuff about making these characters possess complex personalities, FMA:B has a better way to define them.\\n\\r\\nTRAUMA\\n\\r\\nEveryone who\\'s remotely relevant has a traumatic backstory. It\\'s a harsh world, sure. I get that. Here\\'s the issue: people are introduced and then defined through their trauma. Now this isn\\'t Angel Beats bad, where horrible things happen to perfectly innocent people for no reason. Most of the tragedy is partially a result of the decisions of the characters involved, and their resulting struggle is a combination of having to cope with the consequences and with themselves and their mistakes. However, this cannot be used as a SUBSTITUTE for character development. A supplement, sure, but I still remember in episode four when Ed and Al meet a state alchemist who literally introduces himself with something along the lines of \"my wife left me because we were too poor\" before he even tells them his goddamn NAME. Here, come on in! Take a seat! Would you like some sorrow pie or tragic backstory cake? We have plenty! Ed and Al\\'s dad left, then their mom died, then they f*cking ripped their bodies apart. Winry\\'s parents were murdered in cold blood. Mustang had to kill lots of people. Armstrong had to kill lots of people. Everyone had to kill lots of people. Scar watched everyone he loved get killed, and then had to kill lots of people. These are always the first things we find out about people, and then for the rest of the show they are defined almost exclusively by them. If anyone is overly happy and wholesome, it means something horrid is going to happen to them. It\\'s basic emotional manipulation. Look at this adorable little girl and her dog! Dead. Look at this smiling, picturesque family! Husband dead. Dead. Everyone innocuously happy has to die or lose someone close to them. The more broken and internally conflicted you are, the safer you are. There\\'s no need to pile more grief on Scar, so he\\'s relatively safe.\\n\\r\\nYes, the characters suffer from repeatable and preventable problems. They exist mainly to function as morals-in-a-bottle with gags tacked on to them. They\\'re difficult to relate to, because all we know about them is whatever themes they embody and one or two dumb jokes. Ikuhara writes characters more personable than this, and his stories don\\'t make sense on PURPOSE. I did give the characters a 6 though, and there are reasons for that.\\n\\r\\nFirst off, despite their lack of humanization the characters complete their tasks of being walking themes with relative effectiveness. This isn\\'t anywhere near Log Horizon S1 bad. These characters are here for a reason, they represent something, and they represent those things well. Sure, they could have easily been better, but they fulfill their purpose and for that alone they are not failures. I will also give special mention to Scar, who, while still actively defined by his trauma was executed far more impressively than the other characters. This is probably in part because the show actually viewed him as morally ambiguous as opposed to just making the character FEEL morally ambiguous when there was really no doubt that the show wanted you to think this was a \\'good guy\\' (*cough* Mustang)\\n\\r\\nSecond off, there are some exceptions to the rule. Most of my complaints thusfar have been leveled at the shows protagonists. They are the ones that suffer from dismal repetition and blatant violation of show-don\\'t-tell. Where the show does excel is with its antagonists. There are seven homunculi in the show, incarnations of the seven deadly sins, and they so utterly clobber their \"good-guy\" counterparts in terms of being engaging, personable subtle characters that it isn\\'t even funny. Their intensive backstories are never shoved in your face, their apparent contradictions are given plenty of time to be uncovered by the viewer, and the deliciously ironic conclusions to their arcs are done tactfully. Many times I found myself actively routing for them because they were just so much more interesting and well-executed. I would happily watch an \"Adventures of the Homunculus\" spinoff cataloging the several hundred years most of them lived before the start of the series.\\n\\r\\nENJOYMENT: 7\\n\\r\\nI was constantly gripped by the plot. I actively looked forward to the openings and endings. The art was oftentimes orgasmic. The homunculi made me want to start looking for ingredients to make a philosopher\\'s stone with. However, I was constantly frustrated by the show\\'s apparent lack of respect for its viewers and by its absolutely abysmal humor. I\\'ve already said it, but I don\\'t know if I\\'ve driven home just how infuriating it is to have exposition repeated to you over and f*cking over again and how cringe-inducing it is when somebody violates the show-don\\'t-tell rule at extremely tense and crucial moments. It actively snapped me out of the experience whenever Ed and Al had a conversation about getting their bodies back after the 5th time it happened, and when God literally spelled out for Ed that he had discovered the meaning of life I facepalmed hard. That\\'s not how you do themes, man. That just comes off as preachy. That\\'s something the show suffered constantly from: it felt incredibly preachy. It\\'s character\\'s speeches about the answers they had found to their struggles felt much more pointed at the audience than at anyone in the show they were talking to, and that bothered the ever-loving crap out of me. And have I mentioned the humor? For every joke the show has that lands, it tries about five others that fall on their face. As I\\'ve already mentioned, they\\'re repetitive and used as a substitute for meaningful character interactions and development. It seems as thought the show is trying to use them as a counterbalance for its immense amount of melodrama, but instead they end up just ripping apart the tone and stagnating the story. Despite these gripes, I did overall enjoy the experience and felt that the positives did inevitably outweigh the negatives so I will happily give it a 7 for enjoyment.\\n\\r\\nOVERALL: 7\\n\\r\\nFullmetal Alchemist: Brotherhood is not a masterpiece. It\\'s a very respectable, unique, inspired and creative show and it\\'s definitely a classic. I would happily recommend this to most people. However, don\\'t go in with irrational expectations. It\\'s enjoyable, it\\'s engaging, it will definitely give you plenty to think about, but in my personal opinion it gets a little too much praise and a little too much hype. I probably would have enjoyed it more myself if I hadn\\'t heard nothing but angelic worship for it before going into it. I formally apologize to any huge fans of the show that I may have offended: it\\'s not by any means a bad show! I don\\'t give out 7s all that lightly, believe me. This is merely an argument against FMA:B being the be-all-end-all of anime. Thanks for reading if you made it through that wall of text, and have a nice day!\\n'"
      ]
     },
     "execution_count": 31,
     "metadata": {},
     "output_type": "execute_result"
    }
   ],
   "source": [
    "df['review'].iloc[5]"
   ]
  },
  {
   "cell_type": "code",
   "execution_count": 32,
   "metadata": {},
   "outputs": [],
   "source": [
    "def sentiment_score(review):\n",
    "    tokens = tokenizer.encode(review, return_tensors='pt')\n",
    "    result = model(tokens)\n",
    "    return int(torch.argmax(result.logits))+1"
   ]
  },
  {
   "cell_type": "code",
   "execution_count": 33,
   "metadata": {},
   "outputs": [
    {
     "data": {
      "text/plain": [
       "5"
      ]
     },
     "execution_count": 33,
     "metadata": {},
     "output_type": "execute_result"
    }
   ],
   "source": [
    "sentiment_score(df['review'].iloc[1])"
   ]
  },
  {
   "cell_type": "code",
   "execution_count": 34,
   "metadata": {},
   "outputs": [],
   "source": [
    "df['sentiment'] = df['review'].apply(lambda x: sentiment_score(x[:512]))"
   ]
  },
  {
   "cell_type": "code",
   "execution_count": 35,
   "metadata": {},
   "outputs": [
    {
     "data": {
      "text/html": [
       "<div>\n",
       "<style scoped>\n",
       "    .dataframe tbody tr th:only-of-type {\n",
       "        vertical-align: middle;\n",
       "    }\n",
       "\n",
       "    .dataframe tbody tr th {\n",
       "        vertical-align: top;\n",
       "    }\n",
       "\n",
       "    .dataframe thead th {\n",
       "        text-align: right;\n",
       "    }\n",
       "</style>\n",
       "<table border=\"1\" class=\"dataframe\">\n",
       "  <thead>\n",
       "    <tr style=\"text-align: right;\">\n",
       "      <th></th>\n",
       "      <th>review</th>\n",
       "      <th>sentiment</th>\n",
       "    </tr>\n",
       "  </thead>\n",
       "  <tbody>\n",
       "    <tr>\n",
       "      <th>4</th>\n",
       "      <td>\\n                First of all, I have seen th...</td>\n",
       "      <td>2</td>\n",
       "    </tr>\n",
       "    <tr>\n",
       "      <th>5</th>\n",
       "      <td>\\n                Fullmetal Alchemist: Brother...</td>\n",
       "      <td>4</td>\n",
       "    </tr>\n",
       "    <tr>\n",
       "      <th>6</th>\n",
       "      <td>\\n                Adaptations have long been a...</td>\n",
       "      <td>2</td>\n",
       "    </tr>\n",
       "    <tr>\n",
       "      <th>7</th>\n",
       "      <td>\\n          Antiheroes are often some of the m...</td>\n",
       "      <td>3</td>\n",
       "    </tr>\n",
       "    <tr>\n",
       "      <th>8</th>\n",
       "      <td>\\n          OP characters are a common trope i...</td>\n",
       "      <td>3</td>\n",
       "    </tr>\n",
       "  </tbody>\n",
       "</table>\n",
       "</div>"
      ],
      "text/plain": [
       "                                              review  sentiment\n",
       "4  \\n                First of all, I have seen th...          2\n",
       "5  \\n                Fullmetal Alchemist: Brother...          4\n",
       "6  \\n                Adaptations have long been a...          2\n",
       "7  \\n          Antiheroes are often some of the m...          3\n",
       "8  \\n          OP characters are a common trope i...          3"
      ]
     },
     "execution_count": 35,
     "metadata": {},
     "output_type": "execute_result"
    }
   ],
   "source": [
    "df.tail()"
   ]
  },
  {
   "cell_type": "code",
   "execution_count": 37,
   "metadata": {},
   "outputs": [
    {
     "data": {
      "text/plain": [
       "'\\n          Antiheroes are often some of the most beloved and most talked about characters in their stories. The appeal of these characters can be high and their character brilliant, but what actually makes an antihero work? \\n        '"
      ]
     },
     "execution_count": 37,
     "metadata": {},
     "output_type": "execute_result"
    }
   ],
   "source": [
    "df['review'].iloc[7]"
   ]
  },
  {
   "cell_type": "code",
   "execution_count": null,
   "metadata": {},
   "outputs": [],
   "source": []
  }
 ],
 "metadata": {
  "kernelspec": {
   "display_name": "Python 3 (ipykernel)",
   "language": "python",
   "name": "python3"
  },
  "language_info": {
   "codemirror_mode": {
    "name": "ipython",
    "version": 3
   },
   "file_extension": ".py",
   "mimetype": "text/x-python",
   "name": "python",
   "nbconvert_exporter": "python",
   "pygments_lexer": "ipython3",
   "version": "3.11.3"
  }
 },
 "nbformat": 4,
 "nbformat_minor": 2
}
